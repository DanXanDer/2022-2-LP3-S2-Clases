{
 "cells": [
  {
   "cell_type": "code",
   "execution_count": null,
   "id": "71054f56",
   "metadata": {},
   "outputs": [],
   "source": [
    "ventas = float(input(\"Importe de ventas realizadas: \"))\n",
    "if ventas < 0:\n",
    "    print(\"Datos erroneos\")\n",
    "else:\n",
    "    if ventas <= 1000:\n",
    "        print(\"Categoria A\")\n",
    "    elif ventas <= 2000:\n",
    "        print(\"Categoria B\")\n",
    "    elif ventas <= 5000:\n",
    "        print(\"Categoria C\")\n",
    "    else:\n",
    "        print(\"Categoria D\")\n",
    "        \n",
    "        "
   ]
  }
 ],
 "metadata": {
  "kernelspec": {
   "display_name": "Python 3 (ipykernel)",
   "language": "python",
   "name": "python3"
  },
  "language_info": {
   "codemirror_mode": {
    "name": "ipython",
    "version": 3
   },
   "file_extension": ".py",
   "mimetype": "text/x-python",
   "name": "python",
   "nbconvert_exporter": "python",
   "pygments_lexer": "ipython3",
   "version": "3.9.12"
  }
 },
 "nbformat": 4,
 "nbformat_minor": 5
}
