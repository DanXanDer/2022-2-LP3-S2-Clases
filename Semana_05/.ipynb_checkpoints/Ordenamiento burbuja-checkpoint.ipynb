{
 "cells": [
  {
   "cell_type": "code",
   "execution_count": 1,
   "id": "1b292d3a",
   "metadata": {},
   "outputs": [
    {
     "name": "stdout",
     "output_type": "stream",
     "text": [
      "[-1000, -10, 0, 0, 5, 10, 17, 20, 50, 100, 2000]\n"
     ]
    }
   ],
   "source": [
    "def ordenamiento_burbuja(arreglo):\n",
    "    n = len(arreglo)\n",
    "    for i in range(n-1):       \n",
    "        for j in range(n-1-i): \n",
    "            if arreglo[j] > arreglo[j+1]:\n",
    "                arreglo[j], arreglo[j+1] = arreglo[j+1], arreglo[j]\n",
    "\n",
    "elementos = [10, 20, 5, -10, 100, 0, 50, 17, 2000, -1000, 0]\n",
    "ordenamiento_burbuja(elementos)\n",
    "\n",
    "print(elementos)"
   ]
  },
  {
   "cell_type": "code",
   "execution_count": null,
   "id": "eae50208",
   "metadata": {},
   "outputs": [],
   "source": []
  }
 ],
 "metadata": {
  "kernelspec": {
   "display_name": "Python 3 (ipykernel)",
   "language": "python",
   "name": "python3"
  },
  "language_info": {
   "codemirror_mode": {
    "name": "ipython",
    "version": 3
   },
   "file_extension": ".py",
   "mimetype": "text/x-python",
   "name": "python",
   "nbconvert_exporter": "python",
   "pygments_lexer": "ipython3",
   "version": "3.9.13"
  }
 },
 "nbformat": 4,
 "nbformat_minor": 5
}
